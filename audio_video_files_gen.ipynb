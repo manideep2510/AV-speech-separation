{
 "cells": [
  {
   "cell_type": "code",
   "execution_count": 184,
   "metadata": {
    "scrolled": true
   },
   "outputs": [],
   "source": [
    "import os\n",
    "from os.path import join\n",
    "from glob import glob \n",
    "import random\n",
    "import shutil\n",
    "import numpy as np\n",
    "from pydub import AudioSegment\n",
    "import tensorflow as tf\n",
    "from scipy.io import wavfile\n",
    "from scipy import signal\n",
    "import math\n",
    "from PIL import Image\n",
    "import dlib\n",
    "import skvideo.io\n",
    "import time\n",
    "import glob\n",
    "import subprocess\n",
    "import random\n",
    "from PIL import Image\n",
    "from scipy import signal\n",
    "from scipy.io import wavfile\n",
    "import math\n",
    "import matplotlib.pyplot as plt\n",
    "# Avoid printing TF log messages\n",
    "os.environ['TF_CPP_MIN_LOG_LEVEL'] = '2'"
   ]
  },
  {
   "cell_type": "markdown",
   "metadata": {},
   "source": [
    "# Video Part"
   ]
  },
  {
   "cell_type": "code",
   "execution_count": 2,
   "metadata": {},
   "outputs": [],
   "source": [
    "def get_frames_mouth(detector, predictor, frames):\n",
    "        MOUTH_WIDTH = 100\n",
    "        MOUTH_HEIGHT = 50\n",
    "        HORIZONTAL_PAD = 0.19\n",
    "        normalize_ratio = None\n",
    "        mouth_frames = []\n",
    "        for frame in frames:\n",
    "            dets = detector(frame, 1)\n",
    "            shape = None\n",
    "            for k, d in enumerate(dets):\n",
    "                shape = predictor(frame, d)\n",
    "                i = -1\n",
    "            if shape is None: # Detector doesn't detect face, just return as is\n",
    "                return frames\n",
    "            mouth_points = []\n",
    "            for part in shape.parts():\n",
    "                i += 1\n",
    "                if i < 48: # Only take mouth region\n",
    "                    continue\n",
    "                mouth_points.append((part.x,part.y))\n",
    "            np_mouth_points = np.array(mouth_points)\n",
    "\n",
    "            mouth_centroid = np.mean(np_mouth_points[:, -2:], axis=0)\n",
    "\n",
    "            if normalize_ratio is None:\n",
    "                mouth_left = np.min(np_mouth_points[:, :-1]) * (1.0 - HORIZONTAL_PAD)\n",
    "                mouth_right = np.max(np_mouth_points[:, :-1]) * (1.0 + HORIZONTAL_PAD)\n",
    "\n",
    "                normalize_ratio = MOUTH_WIDTH / float(mouth_right - mouth_left)\n",
    "\n",
    "            new_img_shape = (int(frame.shape[1] * normalize_ratio), int(frame.shape[0]* normalize_ratio))\n",
    "            #resized_img = imresize(frame, new_img_shape)\n",
    "            resized_img=np.array(Image.fromarray(frame).resize(new_img_shape))\n",
    "\n",
    "            mouth_centroid_norm = mouth_centroid * normalize_ratio\n",
    "\n",
    "            mouth_l = int(mouth_centroid_norm[0] - MOUTH_WIDTH / 2)\n",
    "            mouth_r = int(mouth_centroid_norm[0] + MOUTH_WIDTH / 2)\n",
    "            mouth_t = int(mouth_centroid_norm[1] - MOUTH_HEIGHT / 2)\n",
    "            mouth_b = int(mouth_centroid_norm[1] + MOUTH_HEIGHT / 2)\n",
    "\n",
    "            mouth_crop_image = resized_img[mouth_t:mouth_b, mouth_l:mouth_r]\n",
    "\n",
    "            mouth_frames.append(mouth_crop_image)\n",
    "        return mouth_frames"
   ]
  },
  {
   "cell_type": "code",
   "execution_count": 3,
   "metadata": {},
   "outputs": [],
   "source": [
    "detector = dlib.get_frontal_face_detector()\n",
    "predictor = dlib.shape_predictor('shape_predictor_68_face_landmarks.dat')"
   ]
  },
  {
   "cell_type": "code",
   "execution_count": 4,
   "metadata": {},
   "outputs": [],
   "source": [
    "def get_video_frames(path):\n",
    "        videogen = skvideo.io.vreader(path)\n",
    "        frames = np.array([frame for frame in videogen])\n",
    "        return frames"
   ]
  },
  {
   "cell_type": "code",
   "execution_count": 5,
   "metadata": {},
   "outputs": [],
   "source": [
    "def get_cropped_video(input_vid, output_dest, detector = detector, predictor = predictor):\n",
    "    \n",
    "    frames=get_video_frames(input_vid)\n",
    "    \n",
    "    mouth=get_frames_mouth(detector, predictor, frames)\n",
    "    outputdata = np.asarray(mouth)\n",
    "\n",
    "    writer = skvideo.io.FFmpegWriter(output_dest)\n",
    "    for i in range(outputdata.shape[0]):\n",
    "            writer.writeFrame(outputdata[i, :, :, :])\n",
    "    writer.close()"
   ]
  },
  {
   "cell_type": "markdown",
   "metadata": {},
   "source": [
    "# Audio Part"
   ]
  },
  {
   "cell_type": "code",
   "execution_count": 6,
   "metadata": {},
   "outputs": [],
   "source": [
    "def two_files_audio_sum(file_1_path, file_2_path,file_sum_name, volume_reduction=0):\n",
    "    s1 = AudioSegment.from_file(file_1_path)\n",
    "    s2 = AudioSegment.from_file(file_2_path) - volume_reduction # volume_reduction in dB\n",
    "\n",
    "    s2_shift = (len(s1)-len(s2)) / 2 if len(s1) > len(s2) else 0\n",
    "    \n",
    "    audio_sum = s1.overlay(s2, position=s2_shift)\n",
    "    audio_sum.export(file_sum_name, format='wav')\n",
    "\n",
    "    return np.array(audio_sum.get_array_of_samples())"
   ]
  },
  {
   "cell_type": "code",
   "execution_count": 7,
   "metadata": {},
   "outputs": [],
   "source": [
    "mixed_samples=two_files_audio_sum('/Users/manideepkolla/Downloads/test_files/audios/H6jHEcXwbcg/00097.m4a','/Users/manideepkolla/Downloads/test_files/audios/H6jHEcXwbcg/00096.m4a','./mixed_audio.wav')"
   ]
  },
  {
   "cell_type": "code",
   "execution_count": 8,
   "metadata": {},
   "outputs": [],
   "source": [
    "def downsampling(samples, sample_rate, downsample_rate):\n",
    "    secs = len(samples) / float(sample_rate)\n",
    "    num_samples = int(downsample_rate * secs)\n",
    "\n",
    "    return signal.resample(samples, num_samples)"
   ]
  },
  {
   "cell_type": "code",
   "execution_count": 9,
   "metadata": {},
   "outputs": [],
   "source": [
    "def compute_spectrograms(audio_file, max_audio_length=90000, sample_rate=16e3, n_fft=512, window_size=25, step_size=10):\n",
    "    \n",
    "    \n",
    "    \n",
    "    window_frame_size = int(round(window_size / 1e3 * sample_rate))\n",
    "    step_frame_size = int(round(step_size  / 1e3 * sample_rate))\n",
    "    \n",
    "    audio_samples = np.zeros((1, max_audio_length + n_fft//2))\n",
    "    \n",
    "    \n",
    "    rate, samples = wavfile.read(audio_file)\n",
    "    samples = downsampling(samples, rate, sample_rate)\n",
    "    audio_samples[0, n_fft//2: len(samples) + n_fft//2] = samples\n",
    "    num_frames = math.ceil(float(len(samples) + n_fft//2) / step_frame_size)\n",
    "    \n",
    "    # Create Graph\n",
    "    with tf.Graph().as_default():\n",
    "        samples_tensor = tf.constant(audio_samples, dtype=tf.float32)\n",
    "        # Compute STFT\n",
    "        specs_tensor = tf.contrib.signal.stft(samples_tensor, frame_length=window_frame_size, frame_step=step_frame_size,\n",
    "                                              fft_length=n_fft, pad_end=True)\n",
    "        # Apply power-law compression\n",
    "        specs_tensor = tf.abs(specs_tensor) ** 0.3\n",
    "    \n",
    "        # Start session\n",
    "        with tf.Session(config=tf.ConfigProto(allow_soft_placement=True,\n",
    "                                              log_device_placement=False)) as sess:\n",
    "            specs = sess.run(specs_tensor)\n",
    "\n",
    "    return specs, num_frames"
   ]
  },
  {
   "cell_type": "code",
   "execution_count": 10,
   "metadata": {},
   "outputs": [
    {
     "name": "stderr",
     "output_type": "stream",
     "text": [
      "WARNING: Logging before flag parsing goes to stderr.\n",
      "W0824 01:36:35.825030 4420441536 lazy_loader.py:50] \n",
      "The TensorFlow contrib module will not be included in TensorFlow 2.0.\n",
      "For more information, please see:\n",
      "  * https://github.com/tensorflow/community/blob/master/rfcs/20180907-contrib-sunset.md\n",
      "  * https://github.com/tensorflow/addons\n",
      "  * https://github.com/tensorflow/io (for I/O related ops)\n",
      "If you depend on functionality not listed there, please file an issue.\n",
      "\n"
     ]
    }
   ],
   "source": [
    "s,n=compute_spectrograms('./mixed_audio.wav')"
   ]
  },
  {
   "cell_type": "code",
   "execution_count": 11,
   "metadata": {},
   "outputs": [],
   "source": [
    "useful_frames=s[0][:n,:]"
   ]
  },
  {
   "cell_type": "code",
   "execution_count": 165,
   "metadata": {},
   "outputs": [
    {
     "data": {
      "text/plain": [
       "(508, 257)"
      ]
     },
     "execution_count": 165,
     "metadata": {},
     "output_type": "execute_result"
    }
   ],
   "source": [
    "useful_frames.shape"
   ]
  },
  {
   "cell_type": "code",
   "execution_count": 12,
   "metadata": {},
   "outputs": [],
   "source": [
    "import seaborn as sns\n",
    "sns.set()"
   ]
  },
  {
   "cell_type": "code",
   "execution_count": 13,
   "metadata": {
    "scrolled": true
   },
   "outputs": [
    {
     "data": {
      "image/png": "[encoded data removed]",
      "text/plain": [
       "<Figure size 432x288 with 2 Axes>"
      ]
     },
     "metadata": {
      "needs_background": "light"
     },
     "output_type": "display_data"
    }
   ],
   "source": [
    "ax = sns.heatmap(np.rollaxis(useful_frames,1,0))"
   ]
  },
  {
   "cell_type": "markdown",
   "metadata": {},
   "source": [
    "# Binary Mask Generation"
   ]
  },
  {
   "cell_type": "code",
   "execution_count": 181,
   "metadata": {},
   "outputs": [],
   "source": [
    "def downsampling(samples, sample_rate, downsample_rate):\n",
    "    secs = len(samples) / float(sample_rate)\n",
    "    num_samples = int(downsample_rate * secs)\n",
    "\n",
    "    return signal.resample(samples, num_samples)"
   ]
  },
  {
   "cell_type": "code",
   "execution_count": 183,
   "metadata": {},
   "outputs": [],
   "source": [
    "# TF constants definition\n",
    "TF_INTRA_OP_PT = int(os.getenv('TF_INTRA_OP', 0))\n",
    "TF_INTER_OP_PT = int(os.getenv('TF_INTER_OP', 0))\n",
    "\n",
    "\n",
    "def ltass_speaker(audio_folder, sample_rate=16e3, max_audio_length=48000, window_size=25, step_size=10, n_samples=1000):\n",
    "    \"\"\"\n",
    "    Compute the speaker Long-Term Average Speech Spectrum of a speaker.\n",
    "    \"\"\"\n",
    "    audio_filenames = sorted(glob(join(audio_folder, '*.wav')))\n",
    "    \n",
    "    audio_samples = np.zeros((len(audio_filenames), max_audio_length))\n",
    "    num_frames = np.zeros(len(audio_filenames), dtype=np.int32)\n",
    "    \n",
    "    window_frame_size = int(round(window_size / 1e3 * sample_rate))\n",
    "    step_frame_size = int(round(step_size  / 1e3 * sample_rate))\n",
    "    \n",
    "    for i, wav_file in enumerate(audio_filenames):\n",
    "        rate, samples = wavfile.read(wav_file)\n",
    "        samples = downsampling(samples, rate, sample_rate)\n",
    "        audio_samples[i, :len(samples)] = samples\n",
    "        num_frames[i] = len(samples) // step_frame_size\n",
    "    \n",
    "    # Create Graph\n",
    "    with tf.Graph().as_default():\n",
    "        samples_tensor = tf.constant(audio_samples, dtype=tf.float32)\n",
    "        # Compute STFT\n",
    "        specs_tensor = tf.contrib.signal.stft(samples_tensor, frame_length=window_frame_size, frame_step=step_frame_size, pad_end=False)\n",
    "        # Apply power-law compression\n",
    "        specs_tensor = tf.abs(specs_tensor) ** 0.3\n",
    "        \n",
    "        # Start session\n",
    "        with tf.Session(config=tf.ConfigProto(allow_soft_placement=True,\n",
    "                                              log_device_placement=False,\n",
    "                                              intra_op_parallelism_threads=TF_INTRA_OP_PT,\n",
    "                                              inter_op_parallelism_threads=TF_INTER_OP_PT)) as sess:\n",
    "            specs = sess.run(specs_tensor)\n",
    "\n",
    "    spectrograms = []\n",
    "    for spec, nf in zip(specs, num_frames):\n",
    "        spectrograms.append(spec[:nf])\n",
    "    \n",
    "    flat_specs = np.vstack(spectrograms)\n",
    "    mean_spec = flat_specs.mean(axis=0)\n",
    "    stdev_spec = flat_specs.std(axis=0)\n",
    "    \n",
    "    return mean_spec, stdev_spec, specs\n",
    "\n",
    "\n",
    "def compute_tbm(audio_folder, mask_threshold, sample_rate=16e3, max_audio_length=48000, n_fft=512, window_size=25, step_size=10):\n",
    "    \"\"\"\n",
    "    Compute TBMs using LTASS.\n",
    "    \"\"\"\n",
    "    audio_filenames = sorted(glob(join(audio_folder, '*.wav')))\n",
    "    num_frames = np.zeros(len(audio_filenames), dtype=np.int32)\n",
    "    \n",
    "    window_frame_size = int(round(window_size / 1e3 * sample_rate))\n",
    "    step_frame_size = int(round(step_size  / 1e3 * sample_rate))\n",
    "    \n",
    "    audio_samples = np.zeros((len(audio_filenames), max_audio_length + n_fft//2))\n",
    "    \n",
    "    for i, wav_file in enumerate(audio_filenames):\n",
    "        rate, samples = wavfile.read(wav_file)\n",
    "        samples = downsampling(samples, rate, sample_rate)\n",
    "        audio_samples[i, n_fft//2: len(samples) + n_fft//2] = samples\n",
    "        num_frames[i] = math.ceil(float(len(samples) + n_fft//2) / step_frame_size)\n",
    "    \n",
    "    # Create Graph\n",
    "    with tf.Graph().as_default():\n",
    "        samples_tensor = tf.constant(audio_samples, dtype=tf.float32)\n",
    "        # Compute STFT\n",
    "        specs_tensor = tf.contrib.signal.stft(samples_tensor, frame_length=window_frame_size, frame_step=step_frame_size, pad_end=True)\n",
    "        specs_tensor = tf.abs(specs_tensor)\n",
    "\n",
    "        # Start session\n",
    "        with tf.Session(config=tf.ConfigProto(allow_soft_placement=True,\n",
    "                                              log_device_placement=False,\n",
    "                                              intra_op_parallelism_threads=TF_INTRA_OP_PT,\n",
    "                                              inter_op_parallelism_threads=TF_INTER_OP_PT)) as sess:\n",
    "            specs = sess.run(specs_tensor)\n",
    "            \n",
    "    masks = specs > mask_threshold\n",
    "    \n",
    "    return audio_filenames, masks, num_frames\n",
    "\n",
    "\n",
    "def save_target_binary_masks_speaker(audio_folder, mask_folder, mask_factor=0.5, sample_rate=16e3, max_audio_length=48000, ltass_samples=1000):\n",
    "    # Create destination directory if not exists\n",
    "    if not os.path.isdir(mask_folder):\n",
    "        os.makedirs(mask_folder)\n",
    "    \n",
    "    # Compute thresholds and spectrograms\n",
    "    print('Computing LTASS threshold...')\n",
    "    threshold_mean, threshold_std, _ = ltass_speaker(audio_folder, sample_rate, max_audio_length=max_audio_length, n_samples=ltass_samples)\n",
    "    # Denormalize\n",
    "    threshold_freq = (threshold_mean + threshold_std * mask_factor) ** (1 / 0.3)\n",
    "    print('done.')\n",
    "    print('Threshold shape:', threshold_freq.shape)\n",
    "    \n",
    "    # Compute binary masks\n",
    "    audio_filenames, masks, num_frames = compute_tbm(audio_folder, threshold_freq, sample_rate, max_audio_length=max_audio_length)\n",
    "\n",
    "    if not os.path.exists(mask_folder):\n",
    "        os.makedirs(mask_folder)\n",
    "\n",
    "    for a_file, mask, nf in zip(audio_filenames, masks, num_frames):\n",
    "        s_file = os.path.join(mask_folder, os.path.basename(a_file).replace('.wav', '.npy'))\n",
    "        np.save(s_file, mask[:nf])\n",
    "            \n",
    "    print('Done. Target Binary Masks generated:', len(audio_filenames))\n",
    "\n",
    "\n",
    "def save_target_binary_masks(dataset_path, list_of_speakers, audio_folder, dest_dir, mask_factor=0.5, sample_rate=16e3, max_audio_length=48000, ltass_samples=1000):\n",
    "    for s in list_of_speakers:\n",
    "        print('Computing Target Binary Masks of speaker {:d}...'.format(s))\n",
    "        audio_path = os.path.join(dataset_path, 's' + str(s), audio_folder)\n",
    "        dest_path = os.path.join(dataset_path, 's' + str(s), dest_dir)\n",
    "        \n",
    "        save_target_binary_masks_speaker(audio_path, dest_path, mask_factor, sample_rate, max_audio_length, ltass_samples)\n",
    "\n",
    "        print('Speaker {:d} completed.'.format(s))"
   ]
  },
  {
   "cell_type": "code",
   "execution_count": null,
   "metadata": {},
   "outputs": [],
   "source": [
    "# For single audio file\n",
    "\n",
    "def ltass_speaker(audio_file, sample_rate=16e3, max_audio_length=48000, window_size=25, step_size=10, n_samples=1000):\n",
    "    \"\"\"\n",
    "    Compute the speaker Long-Term Average Speech Spectrum of a speaker.\n",
    "    \"\"\"\n",
    "    \n",
    "    audio_sample = np.zeros((max_audio_length))\n",
    "    \n",
    "    window_frame_size = int(round(window_size / 1e3 * sample_rate))\n",
    "    step_frame_size = int(round(step_size  / 1e3 * sample_rate))\n",
    "    \n",
    "    rate, samples = wavfile.read(audio_file)\n",
    "    samples = downsampling(samples, rate, sample_rate)\n",
    "    audio_sample[:len(samples)] = samples\n",
    "    num_frames = len(samples) // step_frame_size\n",
    "    \n",
    "    # Create Graph\n",
    "    with tf.Graph().as_default():\n",
    "        samples_tensor = tf.constant(audio_sample, dtype=tf.float32)\n",
    "        # Compute STFT\n",
    "        spec_tensor = tf.contrib.signal.stft(samples_tensor, frame_length=window_frame_size, frame_step=step_frame_size, pad_end=False)\n",
    "        # Apply power-law compression\n",
    "        spec_tensor = tf.abs(spec_tensor) ** 0.3\n",
    "        \n",
    "        # Start session\n",
    "        with tf.Session(config=tf.ConfigProto(allow_soft_placement=True,\n",
    "                                              log_device_placement=False,\n",
    "                                              intra_op_parallelism_threads=TF_INTRA_OP_PT,\n",
    "                                              inter_op_parallelism_threads=TF_INTER_OP_PT)) as sess:\n",
    "            spec = sess.run(spec_tensor)\n",
    "\n",
    "    spectrogram = spec[:nf]\n",
    "    \n",
    "    mean_spec = spectrogram.mean()\n",
    "    stdev_spec = spectrogram.std()\n",
    "    \n",
    "    return mean_spec, stdev_spec, spec\n",
    "\n",
    "\n",
    "def compute_tbm(audio_file, mask_threshold, sample_rate=16e3, max_audio_length=48000, n_fft=512, window_size=25, step_size=10):\n",
    "    \"\"\"\n",
    "    Compute TBMs using LTASS.\n",
    "    \"\"\"\n",
    "    #audio_filenames = sorted(glob(join(audio_folder, '*.wav')))\n",
    "    #num_frames = np.zeros(len(audio_filenames), dtype=np.int32)\n",
    "    \n",
    "    window_frame_size = int(round(window_size / 1e3 * sample_rate))\n",
    "    step_frame_size = int(round(step_size  / 1e3 * sample_rate))\n",
    "    \n",
    "    audio_sample = np.zeros((max_audio_length + n_fft//2))\n",
    "    \n",
    "    #for i, wav_file in enumerate(audio_filenames):\n",
    "    rate, samples = wavfile.read(audio_file)\n",
    "    samples = downsampling(samples, rate, sample_rate)\n",
    "    audio_sample[n_fft//2: len(samples) + n_fft//2] = samples\n",
    "    num_frames = math.ceil(float(len(samples) + n_fft//2) / step_frame_size)\n",
    "    \n",
    "    # Create Graph\n",
    "    with tf.Graph().as_default():\n",
    "        samples_tensor = tf.constant(audio_sample, dtype=tf.float32)\n",
    "        # Compute STFT\n",
    "        spec_tensor = tf.contrib.signal.stft(samples_tensor, frame_length=window_frame_size, frame_step=step_frame_size, pad_end=True)\n",
    "        spec_tensor = tf.abs(spec_tensor)\n",
    "\n",
    "        # Start session\n",
    "        with tf.Session(config=tf.ConfigProto(allow_soft_placement=True,\n",
    "                                              log_device_placement=False,\n",
    "                                              intra_op_parallelism_threads=TF_INTRA_OP_PT,\n",
    "                                              inter_op_parallelism_threads=TF_INTER_OP_PT)) as sess:\n",
    "            spec = sess.run(spec_tensor)\n",
    "            \n",
    "    mask = spec > mask_threshold\n",
    "    \n",
    "    return audio_file, mask, num_frames\n",
    "\n",
    "def save_target_binary_mask_speaker(audio_file, mask_file, mask_factor=0.5, sample_rate=16e3, max_audio_length=48000, ltass_samples=1000):\n",
    "    \n",
    "    # Compute thresholds and spectrograms\n",
    "    print('Computing LTASS threshold...')\n",
    "    threshold_mean, threshold_std, _ = ltass_speaker(audio_file, sample_rate, max_audio_length=max_audio_length, n_samples=ltass_samples)\n",
    "    # Denormalize\n",
    "    threshold_freq = (threshold_mean + threshold_std * mask_factor) ** (1 / 0.3)\n",
    "    print('done.')\n",
    "    print('Threshold shape:', threshold_freq.shape)\n",
    "    \n",
    "    # Compute binary masks\n",
    "    audio_filename, mask, num_frames = compute_tbm(audio_file, threshold_freq, sample_rate, max_audio_length=max_audio_length)\n",
    "\n",
    "    #for a_file, mask, nf in zip(audio_filenames, masks, num_frames):\n",
    "    s_file = os.path.join(audio_file[:-3]+'.npy')\n",
    "    np.save(s_file, mask[:nf])\n",
    "            \n",
    "    print('Done. Target Binary Masks generated:', len(audio_filenames))"
   ]
  },
  {
   "cell_type": "code",
   "execution_count": null,
   "metadata": {},
   "outputs": [],
   "source": []
  },
  {
   "cell_type": "markdown",
   "metadata": {},
   "source": [
    "# Organising Files and extracting audio"
   ]
  },
  {
   "cell_type": "code",
   "execution_count": 18,
   "metadata": {},
   "outputs": [],
   "source": [
    "# To read the images in numerical order\n",
    "import re\n",
    "numbers = re.compile(r'(\\d+)')\n",
    "def numericalSort(value):\n",
    "    parts = numbers.split(value)\n",
    "    parts[1::2] = map(int, parts[1::2])\n",
    "    return parts"
   ]
  },
  {
   "cell_type": "code",
   "execution_count": 48,
   "metadata": {},
   "outputs": [],
   "source": [
    "files = sorted(glob.glob('/Users/manideepkolla/Downloads/test_fold/pretrain/*/*.mp4'), key=numericalSort)"
   ]
  },
  {
   "cell_type": "code",
   "execution_count": 23,
   "metadata": {},
   "outputs": [],
   "source": [
    "files_split = []\n",
    "for i in files:\n",
    "    files_split.append(i.split('/'))"
   ]
  },
  {
   "cell_type": "code",
   "execution_count": 118,
   "metadata": {},
   "outputs": [
    {
     "data": {
      "text/plain": [
       "238"
      ]
     },
     "execution_count": 118,
     "metadata": {},
     "output_type": "execute_result"
    }
   ],
   "source": [
    "len(files)"
   ]
  },
  {
   "cell_type": "code",
   "execution_count": 46,
   "metadata": {},
   "outputs": [],
   "source": [
    "# Extract audio and save as .wav files \n",
    "\n",
    "def get_wav(mp4_file):\n",
    "    \n",
    "    out_path = mp4_file[:-3]+\"wav\"\n",
    "    command = \"ffmpeg -i \" + mp4_file + ' -codec:a' + ' pcm_s16le' + ' -ac' + ' 1 ' + out_path\n",
    "    subprocess.call(command, shell=True)"
   ]
  },
  {
   "cell_type": "code",
   "execution_count": 129,
   "metadata": {},
   "outputs": [],
   "source": [
    "# From all the existing files, pick certain number files randomly and pair certain number of them together. (Just the file names)\n",
    "def pair_files(files, combination_no=1, count=10):\n",
    "    \n",
    "    if combination_no <= 0 or count <= 0:\n",
    "        print('Inputs not valid')\n",
    "        return 0\n",
    "    \n",
    "    combined_list = []\n",
    "    \n",
    "    picks_no = combination_no*count\n",
    "    \n",
    "    for item in files:\n",
    "        \n",
    "        files_copy = files\n",
    "        \n",
    "        if len(combined_list)>0:\n",
    "            if combination_no == 1:\n",
    "                for done in combined_list:\n",
    "                    if item in done:\n",
    "                        index = done.index(item)\n",
    "                        del_index = int(not index)\n",
    "                        del_file = done[del_index]\n",
    "                        files_copy.remove(del_file)\n",
    "        \n",
    "        random.seed(1)\n",
    "        picks = random.sample(files_copy, picks_no)\n",
    "        \n",
    "        for i in range(count):\n",
    "            \n",
    "            if combination_no == 1:\n",
    "                random.seed(2)\n",
    "                picked = random.sample(picks, combination_no)\n",
    "                \n",
    "                combined = [0]*2\n",
    "                combined[0] = item\n",
    "                combined[1] = picked\n",
    "\n",
    "                picks = [e for e in picks if e is not picked]\n",
    "                \n",
    "            else:\n",
    "                \n",
    "                random.seed(3)\n",
    "                picked = random.sample(picks, combination_no)\n",
    "                \n",
    "                picks = [e for e in picks if e is not picked]\n",
    "                \n",
    "                picked.append(item)\n",
    "                \n",
    "                combined = picked\n",
    "                \n",
    "            combined_list.append(combined)\n",
    "            \n",
    "    return combined_list"
   ]
  },
  {
   "cell_type": "code",
   "execution_count": 139,
   "metadata": {},
   "outputs": [],
   "source": [
    "combined_list = pair_files(files, combination_no=4, count=10)"
   ]
  },
  {
   "cell_type": "code",
   "execution_count": 140,
   "metadata": {},
   "outputs": [
    {
     "data": {
      "text/plain": [
       "['/Users/manideepkolla/Downloads/test_fold/pretrain/5957285425744490519/00062.mp4',\n",
       " '/Users/manideepkolla/Downloads/test_fold/pretrain/5549779787693549159/00010.mp4',\n",
       " '/Users/manideepkolla/Downloads/test_fold/pretrain/5971440779089133573/00031.mp4',\n",
       " '/Users/manideepkolla/Downloads/test_fold/pretrain/6077451309242250656/00026.mp4',\n",
       " '/Users/manideepkolla/Downloads/test_fold/pretrain/5549779787693549159/00001.mp4']"
      ]
     },
     "execution_count": 140,
     "metadata": {},
     "output_type": "execute_result"
    }
   ],
   "source": [
    "combined_list[1]"
   ]
  },
  {
   "cell_type": "code",
   "execution_count": 123,
   "metadata": {},
   "outputs": [
    {
     "data": {
      "text/plain": [
       "2380"
      ]
     },
     "execution_count": 123,
     "metadata": {},
     "output_type": "execute_result"
    }
   ],
   "source": [
    "len(combined_list)"
   ]
  },
  {
   "cell_type": "markdown",
   "metadata": {},
   "source": [
    "# Generate final Training/Val/Testing folders"
   ]
  },
  {
   "cell_type": "markdown",
   "metadata": {},
   "source": [
    "### Directory structure\n",
    "\n",
    "```\n",
    "TRAINING_SET\n",
    "\n",
    "    s1_1\n",
    "        /lips.mp4\n",
    "        /mixed_spectrogram.png\n",
    "        /mask.png\n",
    "    s1_2\n",
    "        /lips.mp4\n",
    "        /mixed_spectrogram.png\n",
    "        /mask.png\n",
    "    ...\n",
    "    \n",
    "    s2_1\n",
    "        /lips.mp4\n",
    "        /mixed_spectrogram.png\n",
    "        /mask.png\n",
    "    s2_2\n",
    "        /lips.mp4\n",
    "        /mixed_spectrogram.png\n",
    "        /mask.png\n",
    "    ...\n",
    "\n",
    "```"
   ]
  },
  {
   "cell_type": "code",
   "execution_count": 150,
   "metadata": {},
   "outputs": [],
   "source": [
    "# Generate training folders for one combination\n",
    "\n",
    "def gen_comb_folders(combined_pairs, dest_folder):\n",
    "    \n",
    "    try:\n",
    "        os.mkdir(dest_folder)\n",
    "    except OSError:\n",
    "        pass\n",
    "\n",
    "    videos = combined_pairs\n",
    "    audios = []\n",
    "    \n",
    "    for item in videos:\n",
    "        audio = item[:-3] + 'wav'\n",
    "        audios.append(audio)\n",
    "        \n",
    "    video_audio = [[0]*2]*len(combined_pairs)\n",
    "    \n",
    "    for i in range(len(video_audio)):\n",
    "        video_audio[i][0] = videos[i]\n",
    "        video_audio[i][1] = audios[i]\n",
    "        \n",
    "    # Folder to save the files\n",
    "    \n",
    "    folder_name = videos[-1].split()[-2] + '_' + videos[-1].split()[-1]\n",
    "    folder_path = dest_folder + '/' + folder_name\n",
    "        \n",
    "    spectrograms = []\n",
    "    masks = []\n",
    "    frames = []\n",
    "    for item in video_audio:\n",
    "        video = item[0]\n",
    "        audio = item[1]\n",
    "        \n",
    "        # Get frames\n",
    "        frame=get_video_frames(video)\n",
    "        mouth=get_frames_mouth(detector, predictor, frames)\n",
    "        \n",
    "        frames.append(mouth)\n",
    "        \n",
    "        # Compute Spectrograms\n",
    "        \n",
    "        # Extract audio save as .wav\n",
    "        get_wav(video)\n",
    "        \n",
    "        s,n=compute_spectrograms(audio) ## Need to compute (remaining)\n",
    "        useful_frames=s[0][:n,:] ## Need to compute (remaining)\n",
    "        \n",
    "        spectrograms.append(useful_frames)\n",
    "        \n",
    "        # Compute masks\n",
    "        \n",
    "        mask = 0        ## Need to compute (remaining)\n",
    "        \n",
    "        masks.append(mask) \n",
    "        \n",
    "        ## Now mix the audios and compute the spectrogram of mixed audio\n",
    "        \n",
    "        mixed_spectogram =          ## Remaining\n",
    "        \n",
    "        \n",
    "        for p in len(video_audio):\n",
    "            \n",
    "            frame = frames[p]\n",
    "            mask = masks[p]\n",
    "            \n",
    "            try:\n",
    "                os.mkdir(folder_path + '_' + str(p))\n",
    "            except OSError:\n",
    "                pass\n",
    "            \n",
    "            # Save lips.mp4\n",
    "            \n",
    "            outputdata = np.asarray(frame)\n",
    "            writer = skvideo.io.FFmpegWriter(folder_path + '_' + str(p)+ '/' + 'lips.mp4')\n",
    "            for i in range(outputdata.shape[0]):\n",
    "                writer.writeFrame(outputdata[i, :, :, :])\n",
    "            writer.close()\n",
    "            \n",
    "            # Save the mask\n",
    "            mask = Image.fromarray(mask)\n",
    "            mask = mask.convert('RGB')\n",
    "            im.save(folder_path + '_' + str(p)+ '/' + 'mask.png')\n",
    "            \n",
    "            # Save the mixed spectrogram\n",
    "            mix_spect = Image.fromarray(mixed_spectogram)\n",
    "            mix_spect = mix_spect.convert('RGB')\n",
    "            im.save(folder_path + '_' + str(p)+ '/' + 'mixed_spectrogram.png')"
   ]
  },
  {
   "cell_type": "code",
   "execution_count": 164,
   "metadata": {},
   "outputs": [],
   "source": []
  },
  {
   "cell_type": "code",
   "execution_count": null,
   "metadata": {},
   "outputs": [],
   "source": []
  },
  {
   "cell_type": "code",
   "execution_count": null,
   "metadata": {},
   "outputs": [],
   "source": []
  },
  {
   "cell_type": "code",
   "execution_count": null,
   "metadata": {},
   "outputs": [],
   "source": []
  },
  {
   "cell_type": "code",
   "execution_count": 167,
   "metadata": {},
   "outputs": [],
   "source": [
    "A = np.random.rand(10,10)\n",
    "im = Image.fromarray(A)\n",
    "im = im.convert('RGB')\n",
    "im.save(\"your_file.png\")"
   ]
  },
  {
   "cell_type": "code",
   "execution_count": 169,
   "metadata": {},
   "outputs": [],
   "source": [
    "frames=get_video_frames('/Users/manideepkolla/Downloads/test_fold/pretrain/5957285425744490519/00062.mp4')"
   ]
  },
  {
   "cell_type": "code",
   "execution_count": 170,
   "metadata": {},
   "outputs": [
    {
     "data": {
      "text/plain": [
       "271"
      ]
     },
     "execution_count": 170,
     "metadata": {},
     "output_type": "execute_result"
    }
   ],
   "source": [
    "len(frames)"
   ]
  },
  {
   "cell_type": "code",
   "execution_count": 171,
   "metadata": {},
   "outputs": [],
   "source": [
    "get_wav('/Users/manideepkolla/Downloads/test_fold/pretrain/5957285425744490519/00062.mp4')"
   ]
  },
  {
   "cell_type": "code",
   "execution_count": 173,
   "metadata": {},
   "outputs": [],
   "source": [
    "s,n=compute_spectrograms('/Users/manideepkolla/Downloads/test_fold/pretrain/5957285425744490519/00062.wav', max_audio_length=200000)"
   ]
  },
  {
   "cell_type": "code",
   "execution_count": 178,
   "metadata": {},
   "outputs": [
    {
     "data": {
      "text/plain": [
       "(1, 1252, 257)"
      ]
     },
     "execution_count": 178,
     "metadata": {},
     "output_type": "execute_result"
    }
   ],
   "source": [
    "s.shape"
   ]
  },
  {
   "cell_type": "code",
   "execution_count": 176,
   "metadata": {},
   "outputs": [],
   "source": [
    "useful_frames=s[0][:n,:]"
   ]
  },
  {
   "cell_type": "code",
   "execution_count": 177,
   "metadata": {},
   "outputs": [
    {
     "data": {
      "text/plain": [
       "(1090, 257)"
      ]
     },
     "execution_count": 177,
     "metadata": {},
     "output_type": "execute_result"
    }
   ],
   "source": [
    "useful_frames.shape"
   ]
  },
  {
   "cell_type": "code",
   "execution_count": 187,
   "metadata": {},
   "outputs": [
    {
     "data": {
      "text/plain": [
       "3.5"
      ]
     },
     "execution_count": 187,
     "metadata": {},
     "output_type": "execute_result"
    }
   ],
   "source": [
    "np.asarray([[1,2,3], [4,5,6]]).mean()"
   ]
  },
  {
   "cell_type": "markdown",
   "metadata": {},
   "source": [
    "start = time.time()\n",
    "mouth=get_frames_mouth(detector, predictor, frames)\n",
    "end = time.time()\n",
    "print((end-start))"
   ]
  },
  {
   "cell_type": "markdown",
   "metadata": {},
   "source": [
    "outputdata = np.asarray(mouth)\n",
    "\n",
    "writer = skvideo.io.FFmpegWriter(\"outputvideo.mp4\")\n",
    "for i in range(outputdata.shape[0]):\n",
    "        writer.writeFrame(outputdata[i, :, :, :])\n",
    "writer.close()"
   ]
  }
 ],
 "metadata": {
  "kernelspec": {
   "display_name": "Python 3",
   "language": "python",
   "name": "python3"
  },
  "language_info": {
   "codemirror_mode": {
    "name": "ipython",
    "version": 3
   },
   "file_extension": ".py",
   "mimetype": "text/x-python",
   "name": "python",
   "nbconvert_exporter": "python",
   "pygments_lexer": "ipython3",
   "version": "3.7.4"
  }
 },
 "nbformat": 4,
 "nbformat_minor": 2
}
