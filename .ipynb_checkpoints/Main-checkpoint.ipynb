{
 "cells": [
  {
   "cell_type": "code",
   "execution_count": 1,
   "metadata": {},
   "outputs": [],
   "source": [
    "import torch\n",
    "from torch.utils import data\n",
    "import glob\n",
    "import os\n",
    "from skimage import io, transform\n",
    "import numpy as np\n",
    "import matplotlib.pyplot as plt\n",
    "\n",
    "# Ignore warnings\n",
    "import warnings\n",
    "warnings.filterwarnings(\"ignore\")\n",
    "\n",
    "plt.ion()   # interactive mode"
   ]
  },
  {
   "cell_type": "code",
   "execution_count": 2,
   "metadata": {},
   "outputs": [],
   "source": [
    "# To read the images in numerical order\n",
    "import re\n",
    "numbers = re.compile(r'(\\d+)')\n",
    "def numericalSort(value):\n",
    "    parts = numbers.split(value)\n",
    "    parts[1::2] = map(int, parts[1::2])\n",
    "    return parts"
   ]
  },
  {
   "cell_type": "code",
   "execution_count": 3,
   "metadata": {},
   "outputs": [],
   "source": [
    "def get_video_frames(path):\n",
    "        videogen = skvideo.io.vreader(path)\n",
    "        frames = np.array([frame for frame in videogen])\n",
    "        return frames"
   ]
  },
  {
   "cell_type": "code",
   "execution_count": 4,
   "metadata": {},
   "outputs": [],
   "source": [
    "lips_filelist = sorted(glob.glob('/Users/manideepkolla/Downloads/test_fold/output/*/*.mp4'), key=numericalSort)\n",
    "masks_filelist = sorted(glob.glob('/Users/manideepkolla/Downloads/test_fold/output/*/*.npy'), key=numericalSort)\n",
    "spects_filelist = sorted(glob.glob('/Users/manideepkolla/Downloads/test_fold/output/*/*.png'), key=numericalSort)"
   ]
  },
  {
   "cell_type": "code",
   "execution_count": 5,
   "metadata": {},
   "outputs": [],
   "source": [
    "folders_list = sorted(glob.glob('/Users/manideepkolla/Downloads/test_fold/output/*'), key=numericalSort)"
   ]
  },
  {
   "cell_type": "code",
   "execution_count": 6,
   "metadata": {},
   "outputs": [
    {
     "data": {
      "text/plain": [
       "['/Users/manideepkolla/Downloads/test_fold/output/5549779787693549159_00001_0',\n",
       " '/Users/manideepkolla/Downloads/test_fold/output/5549779787693549159_00001_1',\n",
       " '/Users/manideepkolla/Downloads/test_fold/output/5549779787693549159_00001_2',\n",
       " '/Users/manideepkolla/Downloads/test_fold/output/5549779787693549159_00001_3',\n",
       " '/Users/manideepkolla/Downloads/test_fold/output/5549779787693549159_00001_4']"
      ]
     },
     "execution_count": 6,
     "metadata": {},
     "output_type": "execute_result"
    }
   ],
   "source": [
    "folders_list"
   ]
  },
  {
   "cell_type": "code",
   "execution_count": 7,
   "metadata": {},
   "outputs": [],
   "source": [
    "# DataLoader class\n",
    "\n",
    "class Dataset(data.Dataset):\n",
    "    'Characterizes a dataset for PyTorch'\n",
    "    def __init__(self, lips_filelist, masks_filelist, spects_filelist):\n",
    "        'Initialization'\n",
    "        self.lips_filelist = lips_filelist\n",
    "        self.masks_filelist = masks_filelist\n",
    "        self.spects_filelist = spects_filelist\n",
    "\n",
    "    def __len__(self):\n",
    "        'Denotes the total number of samples'\n",
    "        return len(self.lips_filelist)\n",
    "\n",
    "    def __getitem__(self, index):\n",
    "        'Generates one sample of data'\n",
    "        # Select sample\n",
    "        lips_filename = self.lips_filelist[index]\n",
    "        mask_filename = self.masks_filelist[index]\n",
    "        spect_filename = self.spects_filelist[index]\n",
    "        \n",
    "        # Read the lips.mp4 file\n",
    "        lips = get_video_frames(lip_filename)\n",
    "        \n",
    "        # Read mask\n",
    "        mask = np.load(mask_filename)\n",
    "        \n",
    "        # Read mixed spectrogram\n",
    "        spect = io.imread(spect_filename)\n",
    "\n",
    "        return lips, spect, mask"
   ]
  },
  {
   "cell_type": "code",
   "execution_count": 9,
   "metadata": {},
   "outputs": [],
   "source": [
    "# CUDA for PyTorch\n",
    "use_cuda = torch.cuda.is_available()\n",
    "device = torch.device(\"cuda:0\" if use_cuda else \"cpu\")\n",
    "#cudnn.benchmark = True\n",
    "\n",
    "# Parameters\n",
    "params = {'batch_size': 64,\n",
    "          'shuffle': True,\n",
    "          'num_workers': 6}\n",
    "max_epochs = 100"
   ]
  },
  {
   "cell_type": "code",
   "execution_count": 10,
   "metadata": {},
   "outputs": [],
   "source": [
    "# Generators\n",
    "training_set = Dataset(lips_filelist, masks_filelist, spects_filelist)\n",
    "training_generator = data.DataLoader(training_set, **params)"
   ]
  },
  {
   "cell_type": "code",
   "execution_count": null,
   "metadata": {},
   "outputs": [],
   "source": [
    "# Loop over epochs\n",
    "for epoch in range(max_epochs):\n",
    "    # Training\n",
    "    for local_batch, local_labels in training_generator:\n",
    "        # Transfer to GPU\n",
    "        local_batch, local_labels = local_batch.to(device), local_labels.to(device)\n",
    "\n",
    "        # Model computations\n",
    "        [...]\n",
    "\n",
    "    # Validation\n",
    "    with torch.set_grad_enabled(False):\n",
    "        for local_batch, local_labels in validation_generator:\n",
    "            # Transfer to GPU\n",
    "            local_batch, local_labels = local_batch.to(device), local_labels.to(device)\n",
    "\n",
    "            # Model computations\n",
    "            [...]"
   ]
  },
  {
   "cell_type": "code",
   "execution_count": null,
   "metadata": {},
   "outputs": [],
   "source": [
    "class LipNet(nn.Module):\n",
    "    def __init__(self, opt, vocab_size):\n",
    "        super(LipNet, self).__init__()\n",
    "        self.opt = opt\n",
    "        self.conv = nn.Sequential(\n",
    "            nn.Conv3d(3, 32, kernel_size=(3, 5, 5), stride=(1, 2, 2), padding=(1, 2, 2)),\n",
    "            nn.ReLU(True),\n",
    "            nn.MaxPool3d(kernel_size=(1, 2, 2), stride=(1, 2, 2)),\n",
    "            nn.Dropout3d(opt.dropout),\n",
    "            nn.Conv3d(32, 64, kernel_size=(3, 5, 5), stride=(1, 1, 1), padding=(1, 2, 2)),\n",
    "            nn.ReLU(True),\n",
    "            nn.MaxPool3d(kernel_size=(1, 2, 2), stride=(1, 2, 2)),\n",
    "            nn.Dropout3d(opt.dropout),\n",
    "            nn.Conv3d(64, 96, kernel_size=(3, 3, 3), stride=(1, 1, 1), padding=(1, 1, 1)),\n",
    "            nn.ReLU(True),\n",
    "            nn.MaxPool3d(kernel_size=(1, 2, 2), stride=(1, 2, 2)),\n",
    "            nn.Dropout3d(opt.dropout)\n",
    "        )\n",
    "        # T B C*H*W\n",
    "        self.gru1 = nn.GRU(96 * 3 * 6, opt.rnn_size, 1, bidirectional=True)\n",
    "        self.drp1 = nn.Dropout(opt.dropout)\n",
    "        # T B F\n",
    "        self.gru2 = nn.GRU(opt.rnn_size * 2, opt.rnn_size, 1, bidirectional=True)\n",
    "        self.drp2 = nn.Dropout(opt.dropout)\n",
    "        # T B V\n",
    "        self.pred = nn.Linear(opt.rnn_size * 2, vocab_size + 1)\n",
    "        \n",
    "        # initialisations\n",
    "        for m in self.conv.modules():\n",
    "            if isinstance(m, nn.Conv3d):\n",
    "                init.kaiming_normal_(m.weight, nonlinearity='relu')\n",
    "                init.constant_(m.bias, 0)\n",
    "\n",
    "        init.kaiming_normal_(self.pred.weight, nonlinearity='sigmoid')\n",
    "        init.constant_(self.pred.bias, 0)\n",
    "\n",
    "        for m in (self.gru1, self.gru2):\n",
    "            stdv = math.sqrt(2 / (96 * 3 * 6 + opt.rnn_size))\n",
    "            for i in range(0, opt.rnn_size * 3, opt.rnn_size):\n",
    "                init.uniform_(m.weight_ih_l0[i: i + opt.rnn_size],\n",
    "                            -math.sqrt(3) * stdv, math.sqrt(3) * stdv)\n",
    "                init.orthogonal_(m.weight_hh_l0[i: i + opt.rnn_size])\n",
    "                init.constant_(m.bias_ih_l0[i: i + opt.rnn_size], 0)\n",
    "                init.uniform_(m.weight_ih_l0_reverse[i: i + opt.rnn_size],\n",
    "                            -math.sqrt(3) * stdv, math.sqrt(3) * stdv)\n",
    "                init.orthogonal_(m.weight_hh_l0_reverse[i: i + opt.rnn_size])\n",
    "                init.constant_(m.bias_ih_l0_reverse[i: i + opt.rnn_size], 0)\n",
    "    \n",
    "    def forward(self, x):\n",
    "        x = self.conv(x) # B C T H W\n",
    "        x = x.permute(2, 0, 1, 3, 4).contiguous() # T B C H W\n",
    "        x = x.view(x.size(0), x.size(1), -1)\n",
    "        x, _ = self.gru1(x)\n",
    "        x = self.drp1(x)\n",
    "        x, _ = self.gru2(x)\n",
    "        x = self.drp2(x)\n",
    "        x = self.pred(x)\n",
    "        \n",
    "        return x"
   ]
  }
 ],
 "metadata": {
  "kernelspec": {
   "display_name": "Python 3",
   "language": "python",
   "name": "python3"
  },
  "language_info": {
   "codemirror_mode": {
    "name": "ipython",
    "version": 3
   },
   "file_extension": ".py",
   "mimetype": "text/x-python",
   "name": "python",
   "nbconvert_exporter": "python",
   "pygments_lexer": "ipython3",
   "version": "3.7.4"
  }
 },
 "nbformat": 4,
 "nbformat_minor": 2
}
